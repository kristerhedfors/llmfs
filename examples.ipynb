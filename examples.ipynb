{
    "cells": [
        {
            "cell_type": "markdown",
            "metadata": {},
            "source": [
                "# TouchFS Examples\n",
                "\n",
                "This notebook demonstrates the usage of TouchFS (LLM-powered Memory Filesystem), a FUSE-based memory filesystem backed by JSON that can generate filesystem structures using OpenAI's GPT models."
            ]
        },
        {
            "cell_type": "code",
            "execution_count": null,
            "metadata": {},
            "source": [
                "from dotenv import load_dotenv\n",
                "from touchfs.core.operations import Memory\n",
                "from touchfs.content.generator import generate_filesystem\n",
                "\n",
                "# Load environment variables\n",
                "load_dotenv()"
            ]
        }
    ],
    "metadata": {
        "kernelspec": {
            "display_name": "Python 3",
            "language": "python",
            "name": "python3"
        },
        "language_info": {
            "codemirror_mode": {
                "name": "ipython",
                "version": 3
            },
            "file_extension": ".py",
            "mimetype": "text/x-python",
            "name": "python",
            "nbconvert_exporter": "python",
            "pygments_lexer": "ipython3",
            "version": "3.8.0"
        }
    },
    "nbformat": 4,
    "nbformat_minor": 4
}
