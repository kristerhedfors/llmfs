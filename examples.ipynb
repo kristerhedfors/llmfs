{
 "cells": [
  {
   "cell_type": "markdown",
   "metadata": {},
   "source": [
    "# LLMFS Examples\n",
    "\n",
    "This notebook demonstrates the usage of LLMFS (LLM-powered Memory Filesystem), a FUSE-based memory filesystem backed by JSON that can generate filesystem structures using OpenAI's GPT models."
   ]
  },
  {
   "cell_type": "markdown",
   "metadata": {},
   "source": [
    "## Setup\n",
    "\n",
    "First, let's import the necessary components from LLMFS:"
   ]
  },
  {
   "cell_type": "code",
   "execution_count": null,
   "metadata": {},
   "outputs": [],
   "source": [
    "import os\n",
    "from dotenv import load_dotenv\n",
    "from llmfs.llmfs import Memory, generate_filesystem\n",
    "\n",
    "# Load environment variables from .env file\n",
    "load_dotenv()"
   ]
  },
  {
   "cell_type": "markdown",
   "metadata": {},
   "source": [
    "## Example 1: Structured Output with GPT-4\n",
    "\n",
    "This example demonstrates how to use the GPT-4 model with structured outputs using Pydantic:"
   ]
  },
  {
   "cell_type": "code",
   "execution_count": 1,
   "metadata": {},
   "outputs": [
    {
     "name": "stdout",
     "output_type": "stream",
     "text": [
      "Project Name: Web Application Project\n",
      "Directories: ['frontend', 'backend']\n",
      "Files: ['package.json', '.gitignore', 'README.md']\n",
      "Description: This project is a web application consisting of a frontend developed with React and a backend for handling API endpoints. It includes essential configuration files typically required in a web development environment.\n"
     ]
    }
   ],
   "source": [
    "from pydantic import BaseModel\n",
    "from openai import OpenAI\n",
    "from typing import List\n",
    "\n",
    "class ProjectStructure(BaseModel):\n",
    "    name: str\n",
    "    directories: List[str]\n",
    "    files: List[str]\n",
    "    description: str\n",
    "\n",
    "client = OpenAI()\n",
    "completion = client.beta.chat.completions.parse(\n",
    "    model=\"gpt-4o-2024-08-06\",\n",
    "    messages=[\n",
    "        {\"role\": \"system\", \"content\": \"Extract project structure information from the description.\"},\n",
    "        {\"role\": \"user\", \"content\": \"Create a web application project with a frontend directory for React components, a backend directory for API endpoints, and include necessary configuration files.\"},\n",
    "    ],\n",
    "    response_format=ProjectStructure,\n",
    ")\n",
    "\n",
    "project = completion.choices[0].message.parsed\n",
    "print(f\"Project Name: {project.name}\")\n",
    "print(f\"Directories: {project.directories}\")\n",
    "print(f\"Files: {project.files}\")\n",
    "print(f\"Description: {project.description}\")\n",
    "\n",
    "# Verify structure\n",
    "assert isinstance(project, ProjectStructure)\n",
    "assert isinstance(project.name, str)\n",
    "assert isinstance(project.directories, list)\n",
    "assert isinstance(project.files, list)\n",
    "assert isinstance(project.description, str)\n",
    "\n",
    "# Verify content expectations\n",
    "assert any(\"frontend\" in d.lower() for d in project.directories), \"Frontend directory not found\"\n",
    "assert any(\"backend\" in d.lower() for d in project.directories), \"Backend directory not found\"\n",
    "assert any(f.endswith(('.json', '.js', '.ts', '.yaml', '.yml')) for f in project.files), \"No configuration files found\""
   ]
  },
  {
   "cell_type": "markdown",
   "metadata": {},
   "source": [
    "## Example 2: Generate a Python Project Structure\n",
    "\n",
    "This example demonstrates how to use LLMFS to generate a Python project structure using natural language prompts. Note that this requires an OpenAI API key to be set in your environment."
   ]
  },
  {
   "cell_type": "code",
   "execution_count": null,
   "metadata": {},
   "outputs": [
    {
     "ename": "NameError",
     "evalue": "name 'generate_filesystem' is not defined",
     "output_type": "error",
     "traceback": [
      "\u001b[0;31m---------------------------------------------------------------------------\u001b[0m",
      "\u001b[0;31mNameError\u001b[0m                                 Traceback (most recent call last)",
      "Cell \u001b[0;32mIn[3], line 8\u001b[0m\n\u001b[1;32m      5\u001b[0m \u001b[38;5;28;01melse\u001b[39;00m:\n\u001b[1;32m      6\u001b[0m     \u001b[38;5;66;03m# Generate filesystem structure\u001b[39;00m\n\u001b[1;32m      7\u001b[0m     prompt \u001b[38;5;241m=\u001b[39m \u001b[38;5;124m\"\u001b[39m\u001b[38;5;124mCreate a Python project with src directory, tests, and documentation\u001b[39m\u001b[38;5;124m\"\u001b[39m\n\u001b[0;32m----> 8\u001b[0m     fs_data \u001b[38;5;241m=\u001b[39m \u001b[43mgenerate_filesystem\u001b[49m(prompt)\n\u001b[1;32m     10\u001b[0m     \u001b[38;5;66;03m# Create filesystem instance\u001b[39;00m\n\u001b[1;32m     11\u001b[0m     fs \u001b[38;5;241m=\u001b[39m Memory(fs_data[\u001b[38;5;124m\"\u001b[39m\u001b[38;5;124mdata\u001b[39m\u001b[38;5;124m\"\u001b[39m])\n",
      "\u001b[0;31mNameError\u001b[0m: name 'generate_filesystem' is not defined"
     ]
    }
   ],
   "source": [
    "# Check if OpenAI API key is set\n",
    "import os\n",
    "from llmfs.llmfs import Memory\n",
    "from llmfs.llmfs import generate_filesystem\n",
    "\n",
    "if not os.getenv(\"OPENAI_API_KEY\"):\n",
    "    print(\"Warning: OPENAI_API_KEY not set. Skipping filesystem generation.\")\n",
    "else:\n",
    "    # Generate filesystem structure\n",
    "    prompt = \"Create a Python project with src directory, tests, and documentation\"\n",
    "    fs_data = generate_filesystem(prompt)\n",
    "    \n",
    "    # Create filesystem instance\n",
    "    fs = Memory(fs_data[\"data\"])\n",
    "    \n",
    "    # Access generated structure\n",
    "    root_children = fs._root._data[\"/\"][\"children\"]\n",
    "    print(\"Generated directories:\", list(root_children.keys()))\n",
    "    \n",
    "    # Verify basic structure\n",
    "    assert \"src\" in root_children\n",
    "    assert \"tests\" in root_children\n",
    "    assert \"docs\" in root_children\n",
    "    print(\"✓ All expected directories present\")"
   ]
  },
  {
   "cell_type": "markdown",
   "metadata": {},
   "source": [
    "## Example 3: Manual Filesystem Operations\n",
    "\n",
    "This example shows how to perform basic filesystem operations like creating directories, files, and symlinks."
   ]
  },
  {
   "cell_type": "code",
   "execution_count": null,
   "metadata": {},
   "outputs": [],
   "source": [
    "# Create filesystem instance\n",
    "fs = Memory()\n",
    "\n",
    "# Create a directory\n",
    "fs.mkdir(\"/mydir\", 0o755)\n",
    "print(\"Created directory: /mydir\")\n",
    "\n",
    "# Create and write to a file\n",
    "fd = fs.create(\"/mydir/hello.txt\", 0o644)\n",
    "fs.write(\"/mydir/hello.txt\", b\"Hello, World!\", 0, fd)\n",
    "print(\"Created and wrote to file: /mydir/hello.txt\")\n",
    "\n",
    "# Read file content\n",
    "content = fs.read(\"/mydir/hello.txt\", 1024, 0, fd)\n",
    "print(f\"File content: {content.decode('utf-8')}\")\n",
    "assert content.decode('utf-8') == \"Hello, World!\"\n",
    "\n",
    "# Create a symlink\n",
    "fs.symlink(\"/mydir/link\", \"hello.txt\")\n",
    "print(\"Created symlink: /mydir/link -> hello.txt\")\n",
    "\n",
    "# List directory contents\n",
    "entries = fs.readdir(\"/mydir\", None)\n",
    "print(f\"Directory contents: {sorted(entries)}\")\n",
    "assert sorted(entries) == ['.', '..', 'hello.txt', 'link']"
   ]
  },
  {
   "cell_type": "markdown",
   "metadata": {},
   "source": [
    "## Example 4: Working with Extended Attributes\n",
    "\n",
    "This example demonstrates how to work with extended attributes (xattr) in LLMFS."
   ]
  },
  {
   "cell_type": "code",
   "execution_count": null,
   "metadata": {},
   "outputs": [],
   "source": [
    "# Create filesystem instance\n",
    "fs = Memory()\n",
    "\n",
    "# Create a file\n",
    "fd = fs.create(\"/metadata.txt\", 0o644)\n",
    "print(\"Created file: /metadata.txt\")\n",
    "\n",
    "# Set extended attributes\n",
    "fs.setxattr(\"/metadata.txt\", \"user.author\", \"John Doe\", None)\n",
    "fs.setxattr(\"/metadata.txt\", \"user.version\", \"1.0\", None)\n",
    "print(\"Set extended attributes: author and version\")\n",
    "\n",
    "# Get extended attribute\n",
    "author = fs.getxattr(\"/metadata.txt\", \"user.author\")\n",
    "print(f\"Author attribute: {author}\")\n",
    "assert author == \"John Doe\"\n",
    "\n",
    "# List extended attributes\n",
    "xattrs = fs.listxattr(\"/metadata.txt\")\n",
    "print(f\"All attributes: {sorted(xattrs)}\")\n",
    "assert sorted(xattrs) == [\"user.author\", \"user.version\"]"
   ]
  },
  {
   "cell_type": "markdown",
   "metadata": {},
   "source": [
    "## Additional Examples\n",
    "\n",
    "### Basic File Operations\n",
    "\n",
    "This example shows additional file operations like truncating and deleting files."
   ]
  },
  {
   "cell_type": "code",
   "execution_count": null,
   "metadata": {},
   "outputs": [],
   "source": [
    "fs = Memory()\n",
    "\n",
    "# Create and write to a file\n",
    "fd = fs.create(\"/test.txt\", 0o644)\n",
    "fs.write(\"/test.txt\", b\"Initial content\", 0, fd)\n",
    "print(\"Created file with content: Initial content\")\n",
    "\n",
    "# Read content\n",
    "content = fs.read(\"/test.txt\", 1024, 0, fd)\n",
    "print(f\"Original content: {content.decode('utf-8')}\")\n",
    "\n",
    "# Truncate file\n",
    "fs.truncate(\"/test.txt\", 7)\n",
    "content = fs.read(\"/test.txt\", 1024, 0, fd)\n",
    "print(f\"Truncated content: {content.decode('utf-8')}\")\n",
    "assert content.decode('utf-8') == \"Initial\"\n",
    "\n",
    "# Delete file\n",
    "fs.unlink(\"/test.txt\")\n",
    "print(\"File deleted\")\n",
    "try:\n",
    "    fs._root._data[\"/test.txt\"]\n",
    "    assert False, \"File should not exist\"\n",
    "except KeyError:\n",
    "    print(\"✓ File successfully deleted\")"
   ]
  },
  {
   "cell_type": "markdown",
   "metadata": {},
   "source": [
    "### Directory Operations\n",
    "\n",
    "This example demonstrates nested directory operations."
   ]
  },
  {
   "cell_type": "code",
   "execution_count": null,
   "metadata": {},
   "outputs": [],
   "source": [
    "fs = Memory()\n",
    "\n",
    "# Create nested directories\n",
    "fs.mkdir(\"/parent\", 0o755)\n",
    "fs.mkdir(\"/parent/child\", 0o755)\n",
    "print(\"Created nested directories: /parent/child\")\n",
    "\n",
    "# List parent directory\n",
    "entries = fs.readdir(\"/parent\", None)\n",
    "print(f\"Parent directory contents: {sorted(entries)}\")\n",
    "assert sorted(entries) == ['.', '..', 'child']\n",
    "\n",
    "# Remove empty directory\n",
    "fs.rmdir(\"/parent/child\")\n",
    "entries = fs.readdir(\"/parent\", None)\n",
    "print(f\"After removing child directory: {sorted(entries)}\")\n",
    "assert sorted(entries) == ['.', '..']"
   ]
  }
 ],
 "metadata": {
  "kernelspec": {
   "display_name": "venv",
   "language": "python",
   "name": "python3"
  },
  "language_info": {
   "codemirror_mode": {
    "name": "ipython",
    "version": 3
   },
   "file_extension": ".py",
   "mimetype": "text/x-python",
   "name": "python",
   "nbconvert_exporter": "python",
   "pygments_lexer": "ipython3",
   "version": "3.10.12"
  }
 },
 "nbformat": 4,
 "nbformat_minor": 4
}
