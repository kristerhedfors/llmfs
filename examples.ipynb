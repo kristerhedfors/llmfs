{
 "cells": [
  {
   "cell_type": "markdown",
   "metadata": {},
   "source": [
    "# LLMFS Examples\n",
    "\n",
    "This notebook demonstrates the usage of LLMFS (LLM-powered Memory Filesystem), a FUSE-based memory filesystem backed by JSON that can generate filesystem structures using OpenAI's GPT models."
   ]
  },
  {
   "cell_type": "markdown",
   "metadata": {},
   "source": [
    "## Setup\n",
    "\n",
    "First, let's import the necessary components and ensure we have our dependencies:"
   ]
  },
  {
   "cell_type": "code",
   "execution_count": null,
   "metadata": {},
   "outputs": [],
   "source": [
    "import os\n",
    "import json\n",
    "from pathlib import Path\n",
    "from dotenv import load_dotenv\n",
    "from llmfs.core.operations import Memory\n",
    "from llmfs.content.generator import generate_filesystem\n",
    "\n",
    "# Load environment variables from .env file\n",
    "load_dotenv()\n",
    "\n",
    "def generate_and_show(prompt):\n",
    "    \"\"\"Generate filesystem structure from prompt and show it\"\"\"\n",
    "    try:\n",
    "        # Generate filesystem structure\n",
    "        print(f\"Generating filesystem from prompt: {prompt}\")\n",
    "        fs_data = generate_filesystem(prompt)\n",
    "        \n",
    "        # Create filesystem instance\n",
    "        fs = Memory(fs_data[\"data\"])\n",
    "        \n",
    "        # Show structure\n",
    "        print(\"\\nGenerated filesystem structure:\")\n",
    "        def print_tree(path=\"/\", indent=\"\"):\n",
    "            entries = fs.readdir(path, None)\n",
    "            for entry in sorted(entries):\n",
    "                if entry in [\".\", \"..\"]:\n",
    "                    continue\n",
    "                full_path = f\"{path}/{entry}\" if path != \"/\" else f\"/{entry}\"\n",
    "                try:\n",
    "                    # Check if it's a directory\n",
    "                    fs.readdir(full_path, None)\n",
    "                    print(f\"{indent}├── {entry}/\")\n",
    "                    print_tree(full_path, indent + \"│   \")\n",
    "                except:\n",
    "                    print(f\"{indent}├── {entry}\")\n",
    "        \n",
    "        print_tree()\n",
    "        \n",
    "        # Show filesystem data\n",
    "        print(\"\\nFilesystem data:\")\n",
    "        print(json.dumps(fs_data[\"data\"], indent=2))\n",
    "        \n",
    "    except Exception as e:\n",
    "        print(f\"Error: {e}\")"
   ]
  },
  {
   "cell_type": "markdown",
   "metadata": {},
   "source": [
    "## Example 1: Python Project Structure\n",
    "\n",
    "Let's create a Python project structure and see what gets generated:"
   ]
  },
  {
   "cell_type": "code",
   "execution_count": null,
   "metadata": {},
   "outputs": [],
   "source": [
    "generate_and_show(\"Create a Python project with src directory, tests, documentation, and typical configuration files\")"
   ]
  },
  {
   "cell_type": "markdown",
   "metadata": {},
   "source": [
    "## Example 2: Web Development Project\n",
    "\n",
    "Now let's generate a web development project structure:"
   ]
  },
  {
   "cell_type": "code",
   "execution_count": null,
   "metadata": {},
   "outputs": [],
   "source": [
    "generate_and_show(\"Create a web development project with HTML, CSS, JavaScript files, and typical assets like images and fonts\")"
   ]
  },
  {
   "cell_type": "markdown",
   "metadata": {},
   "source": [
    "## Fun Retro OS Examples\n",
    "\n",
    "Let's explore some nostalgic filesystem structures!"
   ]
  },
  {
   "cell_type": "markdown",
   "metadata": {},
   "source": [
    "### Windows 95 System Directory"
   ]
  },
  {
   "cell_type": "code",
   "execution_count": null,
   "metadata": {},
   "outputs": [],
   "source": [
    "generate_and_show(\"Create a Windows 95 system directory structure with Program Files, My Documents, and include classic games like Minesweeper and Solitaire\")"
   ]
  },
  {
   "cell_type": "markdown",
   "metadata": {},
   "source": [
    "### Commodore 64 Directory"
   ]
  },
  {
   "cell_type": "code",
   "execution_count": null,
   "metadata": {},
   "outputs": [],
   "source": [
    "generate_and_show(\"Generate a C64 disk structure with BASIC programs, game files, and demo scene productions, including PRG files and SEQ data files\")"
   ]
  },
  {
   "cell_type": "markdown",
   "metadata": {},
   "source": [
    "### AmigaOS Workbench"
   ]
  },
  {
   "cell_type": "code",
   "execution_count": null,
   "metadata": {},
   "outputs": [],
   "source": [
    "generate_and_show(\"Create an AmigaOS Workbench structure with the Utilities drawer, Shell commands, and classic demo files including .MOD music files\")"
   ]
  },
  {
   "cell_type": "markdown",
   "metadata": {},
   "source": [
    "### OpenBSD Development"
   ]
  },
  {
   "cell_type": "code",
   "execution_count": null,
   "metadata": {},
   "outputs": [],
   "source": [
    "generate_and_show(\"Set up an OpenBSD development environment with ports tree structure, X11 configuration, and typical BSD daemon configuration files\")"
   ]
  },
  {
   "cell_type": "markdown",
   "metadata": {},
   "source": [
    "### MS-DOS Gaming"
   ]
  },
  {
   "cell_type": "code",
   "execution_count": null,
   "metadata": {},
   "outputs": [],
   "source": [
    "generate_and_show(\"Create a DOS gaming directory with Commander Keen, Wolfenstein 3D, and typical DOS game files including .EXE, .COM, and .BAT files\")"
   ]
  },
  {
   "cell_type": "markdown",
   "metadata": {},
   "source": [
    "### Classic Mac OS"
   ]
  },
  {
   "cell_type": "code",
   "execution_count": null,
   "metadata": {},
   "outputs": [],
   "source": [
    "generate_and_show(\"Generate a System 7 directory structure with Control Panels, Extensions, and classic Mac applications including HyperCard stacks\")"
   ]
  },
  {
   "cell_type": "markdown",
   "metadata": {},
   "source": [
    "### ZX Spectrum"
   ]
  },
  {
   "cell_type": "code",
   "execution_count": null,
   "metadata": {},
   "outputs": [],
   "source": [
    "generate_and_show(\"Create a ZX Spectrum tape directory structure with game files, BASIC listings, and screen$ display files\")"
   ]
  },
  {
   "cell_type": "markdown",
   "metadata": {},
   "source": [
    "### BeOS Desktop"
   ]
  },
  {
   "cell_type": "code",
   "execution_count": null,
   "metadata": {},
   "outputs": [],
   "source": [
    "generate_and_show(\"Set up a BeOS desktop environment with typical application bundles, Be filesystem attributes, and media files\")"
   ]
  }
 ],
 "metadata": {
  "kernelspec": {
   "display_name": "Python 3",
   "language": "python",
   "name": "python3"
  },
  "language_info": {
   "codemirror_mode": {
    "name": "ipython",
    "version": 3
   },
   "file_extension": ".py",
   "mimetype": "text/x-python",
   "name": "python",
   "nbconvert_exporter": "python",
   "pygments_lexer": "ipython3",
   "version": "3.8.0"
  }
 },
 "nbformat": 4,
 "nbformat_minor": 4
}
