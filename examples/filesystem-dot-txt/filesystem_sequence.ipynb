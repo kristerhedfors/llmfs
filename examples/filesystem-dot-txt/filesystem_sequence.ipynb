{
 "cells": [
  {
   "cell_type": "markdown",
   "metadata": {},
   "source": [
    "# Sequential File Generation Example\n",
    "\n",
    "This notebook demonstrates the core concept of using filesystem sequences to generate project structures. The fundamental idea is captured in this elegant command:\n",
    "\n",
    "```bash\n",
    "touch $(cat filesystem.txt)\n",
    "```\n",
    "\n",
    "This simple yet powerful approach allows us to define project structures through the sequence of file creation operations."
   ]
  },
  {
   "cell_type": "markdown",
   "metadata": {},
   "source": [
    "## Setup\n",
    "\n",
    "First, let's ensure we're in the right directory and set up our workspace:"
   ]
  },
  {
   "cell_type": "code",
   "execution_count": null,
   "metadata": {},
   "outputs": [],
   "source": [
    "import os\n",
    "# Move to notebook directory\n",
    "%cd " + os.path.dirname(os.path.realpath('filesystem_sequence.ipynb'))\n",
    "\n",
    "# Clean up any existing workspace\n",
    "!fusermount -u workspace 2>/dev/null || true\n",
    "!rm -rf workspace\n",
    "\n",
    "# Create fresh workspace\n",
    "!mkdir -p workspace\n",
    "!touchfs_mount workspace\n",
    "%cd workspace"
   ]
  },
  {
   "cell_type": "markdown",
   "metadata": {},
   "source": [
    "## Creating the Filesystem Definition\n",
    "\n",
    "Let's define our project structure in filesystem.txt. The order of files is crucial as it determines the generation sequence:"
   ]
  },
  {
   "cell_type": "code",
   "execution_count": null,
   "metadata": {},
   "outputs": [],
   "source": [
    "%%writefile filesystem.txt\n",
    "README.md\n",
    "src/main.py\n",
    "tests/test_main.py\n",
    "docs/api.md\n",
    "requirements.txt"
   ]
  },
  {
   "cell_type": "markdown",
   "metadata": {},
   "source": [
    "## Sequential Generation\n",
    "\n",
    "Now we'll generate the files in sequence. Each file is generated with awareness of all previously generated files:"
   ]
  },
  {
   "cell_type": "code",
   "execution_count": null,
   "metadata": {},
   "outputs": [],
   "source": [
    "!touch $(cat filesystem.txt)"
   ]
  },
  {
   "cell_type": "markdown",
   "metadata": {},
   "source": [
    "## Examining the Results\n",
    "\n",
    "Let's look at what was generated:"
   ]
  },
  {
   "cell_type": "code",
   "execution_count": null,
   "metadata": {},
   "outputs": [],
   "source": [
    "!tree"
   ]
  },
  {
   "cell_type": "markdown",
   "metadata": {},
   "source": [
    "## Alternative Sequences\n",
    "\n",
    "Different sequences can lead to different project structures. Let's try a test-driven approach:"
   ]
  },
  {
   "cell_type": "code",
   "execution_count": null,
   "metadata": {},
   "outputs": [],
   "source": [
    "%%writefile filesystem.txt\n",
    "tests/test_main.py\n",
    "src/main.py\n",
    "README.md\n",
    "docs/api.md\n",
    "requirements.txt"
   ]
  },
  {
   "cell_type": "code",
   "execution_count": null,
   "metadata": {},
   "outputs": [],
   "source": [
    "!touch $(cat filesystem.txt)"
   ]
  },
  {
   "cell_type": "markdown",
   "metadata": {},
   "source": [
    "## Cleanup"
   ]
  },
  {
   "cell_type": "code",
   "execution_count": null,
   "metadata": {},
   "outputs": [],
   "source": [
    "%cd ..\n",
    "!fusermount -u workspace\n",
    "!rm -rf workspace"
   ]
  }
 ],
 "metadata": {
  "kernelspec": {
   "display_name": "venv",
   "language": "python",
   "name": "python3"
  },
  "language_info": {
   "codemirror_mode": {
    "name": "ipython",
    "version": 3
   },
   "file_extension": ".py",
   "mimetype": "text/x-python",
   "name": "python",
   "nbconvert_exporter": "python",
   "pygments_lexer": "ipython3",
   "version": "3.10.12"
  }
 },
 "nbformat": 4,
 "nbformat_minor": 4
}
