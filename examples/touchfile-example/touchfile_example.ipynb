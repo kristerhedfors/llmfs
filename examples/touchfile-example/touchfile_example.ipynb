# Touchfile Example



This notebook demonstrates using TouchFS to generate a Touchfile that defines a sequence using ONLY mkdir and touch commands. The actual content for each file is generated automatically by TouchFS based on the sequence of these operations.
## Initial Setup



First, let's ensure we're in the correct directory and clean up any previous runs:
# First ensure we're in the correct directory

import os



def find_example_dir():

    # Get current working directory

    cwd = os.getcwd()

    print(f"Starting in: {cwd}")

    

    # If 'touchfile-example' not in path at all, error out

    if 'touchfile-example' not in cwd:

        raise Exception("Not in touchfile-example directory or any of its subdirectories")

    

    # While we're not in the touchfile-example directory

    while os.path.basename(cwd) != 'touchfile-example':

        os.chdir('..')

        cwd = os.getcwd()

        print(f"Moving up to: {cwd}")



# Move to correct directory

find_example_dir()

print(f"\nWorking from: {os.path.basename(os.getcwd())}")



# Clean up any previous workspace

!fusermount -u workspace 2>/dev/null || true

!umount -f workspace 2>/dev/null || true

!rm -rf workspace



print("\nStarting fresh in correct directory")
## Create and Mount Workspace



Now let's create a fresh workspace and mount TouchFS:
# Create fresh workspace

!mkdir workspace



# Mount TouchFS directly on workspace

!touchfs_mount workspace



# Verify workspace is mounted correctly

print("\nMounted workspace contents:")

!ls -la workspace/



# Stay in the notebook directory, don't cd into workspace

print(f"\nStill in: {os.getcwd()}")
## Write Concept to .prompt



Let's copy our .prompt file that defines what kind of Touchfile should be generated:
# Copy .prompt file to workspace root

!cp .prompt workspace/



print(".prompt contents:")

!cat workspace/.prompt
## Generate and Execute Touchfile



Now let's generate the Touchfile by touching it. TouchFS will create a script containing only mkdir and touch commands in the correct sequence. The content for each file will be generated automatically when these commands are executed:
# Create and show Touchfile

!touch workspace/Touchfile

print("Generated Touchfile contents:")

!cat workspace/Touchfile
# Execute Touchfile

!chmod +x workspace/Touchfile

!bash -c 'cd workspace && ./Touchfile'



print("\nFinal workspace structure:")

!find workspace -type f | sort
## Cleanup



Let's clean up our workspace:
# Clean up

!fusermount -u workspace 2>/dev/null || true

!umount -f workspace 2>/dev/null || true

!rm -rf workspace



print("Workspace cleaned up")

print(f"Final directory: {os.getcwd()}")
