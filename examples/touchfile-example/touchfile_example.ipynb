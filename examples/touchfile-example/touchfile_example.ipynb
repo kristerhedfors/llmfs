{
 "cells": [
  {
   "cell_type": "markdown",
   "metadata": {},
   "source": [
    "# Touchfile Example\n",
    "\n",
    "This notebook demonstrates using LLMFS to generate a Touchfile that defines a sequence using ONLY mkdir and touch commands. The actual content for each file is generated automatically by LLMFS based on the sequence of these operations."
   ]
  },
  {
   "cell_type": "markdown",
   "metadata": {},
   "source": [
    "## Initial Setup\n",
    "\n",
    "First, let's ensure we're in the correct directory and clean up any previous runs:"
   ]
  },
  {
   "cell_type": "code",
   "execution_count": null,
   "metadata": {},
   "outputs": [],
   "source": [
    "# First ensure we're in the correct directory\n",
    "import os\n",
    "\n",
    "def find_example_dir():\n",
    "    # Get current working directory\n",
    "    cwd = os.getcwd()\n",
    "    print(f\"Starting in: {cwd}\")\n",
    "    \n",
    "    # If 'touchfile-example' not in path at all, error out\n",
    "    if 'touchfile-example' not in cwd:\n",
    "        raise Exception(\"Not in touchfile-example directory or any of its subdirectories\")\n",
    "    \n",
    "    # While we're not in the touchfile-example directory\n",
    "    while os.path.basename(cwd) != 'touchfile-example':\n",
    "        os.chdir('..')\n",
    "        cwd = os.getcwd()\n",
    "        print(f\"Moving up to: {cwd}\")\n",
    "\n",
    "# Move to correct directory\n",
    "find_example_dir()\n",
    "print(f\"\\nWorking from: {os.path.basename(os.getcwd())}\")\n",
    "\n",
    "# Clean up any previous workspace\n",
    "!fusermount -u workspace 2>/dev/null || true\n",
    "!umount -f workspace 2>/dev/null || true\n",
    "!rm -rf workspace\n",
    "\n",
    "print(\"\\nStarting fresh in correct directory\")"
   ]
  },
  {
   "cell_type": "markdown",
   "metadata": {},
   "source": [
    "## Create and Mount Workspace\n",
    "\n",
    "Now let's create a fresh workspace and mount LLMFS:"
   ]
  },
  {
   "cell_type": "code",
   "execution_count": null,
   "metadata": {},
   "outputs": [],
   "source": [
    "# Create fresh workspace\n",
    "!mkdir workspace\n",
    "\n",
    "# Mount LLMFS directly on workspace\n",
    "!llmfs_mount workspace\n",
    "\n",
    "# Verify workspace is mounted correctly\n",
    "print(\"\\nMounted workspace contents:\")\n",
    "!ls -la workspace/\n",
    "\n",
    "# Stay in the notebook directory, don't cd into workspace\n",
    "print(f\"\\nStill in: {os.getcwd()}\")"
   ]
  },
  {
   "cell_type": "markdown",
   "metadata": {},
   "source": [
    "## Write Concept to .prompt\n",
    "\n",
    "Let's copy our .prompt file that defines what kind of Touchfile should be generated:"
   ]
  },
  {
   "cell_type": "code",
   "execution_count": null,
   "metadata": {},
   "outputs": [],
   "source": [
    "# Copy .prompt file to workspace root\n",
    "!cp .prompt workspace/\n",
    "\n",
    "print(\".prompt contents:\")\n",
    "!cat workspace/.prompt"
   ]
  },
  {
   "cell_type": "markdown",
   "metadata": {},
   "source": [
    "## Generate and Execute Touchfile\n",
    "\n",
    "Now let's generate the Touchfile by touching it. LLMFS will create a script containing only mkdir and touch commands in the correct sequence. The content for each file will be generated automatically when these commands are executed:"
   ]
  },
  {
   "cell_type": "code",
   "execution_count": null,
   "metadata": {},
   "outputs": [],
   "source": [
    "# Create and show Touchfile\n",
    "!touch workspace/Touchfile\n",
    "print(\"Generated Touchfile contents:\")\n",
    "!cat workspace/Touchfile"
   ]
  },
  {
   "cell_type": "code",
   "execution_count": null,
   "metadata": {},
   "outputs": [],
   "source": [
    "# Execute Touchfile\n",
    "!chmod +x workspace/Touchfile\n",
    "!bash -c 'cd workspace && ./Touchfile'\n",
    "\n",
    "print(\"\\nFinal workspace structure:\")\n",
    "!find workspace -type f | sort"
   ]
  },
  {
   "cell_type": "markdown",
   "metadata": {},
   "source": [
    "## Cleanup\n",
    "\n",
    "Let's clean up our workspace:"
   ]
  },
  {
   "cell_type": "code",
   "execution_count": null,
   "metadata": {},
   "outputs": [],
   "source": [
    "# Clean up\n",
    "!fusermount -u workspace 2>/dev/null || true\n",
    "!umount -f workspace 2>/dev/null || true\n",
    "!rm -rf workspace\n",
    "\n",
    "print(\"Workspace cleaned up\")\n",
    "print(f\"Final directory: {os.getcwd()}\")"
   ]
  }
 ],
 "metadata": {
  "kernelspec": {
   "display_name": "Python 3",
   "language": "python",
   "name": "python3"
  },
  "language_info": {
   "codemirror_mode": {
    "name": "ipython",
    "version": 3
   },
   "file_extension": ".py",
   "mimetype": "text/x-python",
   "name": "python",
   "nbconvert_exporter": "python",
   "pygments_lexer": "ipython3",
   "version": "3.8.0"
  }
 },
 "nbformat": 4,
 "nbformat_minor": 4
}
